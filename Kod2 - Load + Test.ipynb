{
 "cells": [
  {
   "cell_type": "code",
   "execution_count": 65,
   "id": "22a98c32-6316-4c97-abe7-a55598e07b5b",
   "metadata": {},
   "outputs": [],
   "source": [
    "import time\n",
    "\n",
    "from tensorflow.keras.preprocessing.sequence import pad_sequences\n",
    "from tensorflow.keras.models import load_model\n",
    "\n",
    "from tensorflow.keras.preprocessing.text import Tokenizer\n",
    "\n",
    "#potrzebne do załadowania danych testowych \n",
    "import numpy as np \n",
    "\n",
    "#potrzebne do wykresu \"confusion matrix\"\n",
    "import matplotlib.pyplot as plt \n",
    "import itertools\n",
    "\n",
    "from sklearn.metrics import confusion_matrix, classification_report, accuracy_score #potrzebne do wykresu \"confusion matrix\" oraz raportów"
   ]
  },
  {
   "cell_type": "code",
   "execution_count": 20,
   "id": "f81ff727-dcc8-48e3-9cc9-e959bac388c0",
   "metadata": {},
   "outputs": [],
   "source": [
    "# SENTIMENT\n",
    "#Przypisanie rezultatów do skali liczbowej, przypisanie nazw do rezultatów \n",
    "POSITIVE = \"POSITIVE\"\n",
    "NEGATIVE = \"NEGATIVE\"\n",
    "NEUTRAL = \"NEUTRAL\"\n",
    "SENTIMENT_THRESHOLDS = (0.4, 0.7)\n",
    "\n",
    "tokenizer = Tokenizer()\n",
    "\n",
    "# wprowadzenie parametrów uczenia maszynowego\n",
    "SEQUENCE_LENGTH = 300 #maksymalna długość tekstu wprowadzone \n",
    "W2V_SIZE = 300\n",
    "BATCH_SIZE = 1024"
   ]
  },
  {
   "cell_type": "code",
   "execution_count": 9,
   "id": "213d67ee-52c6-4cfc-8273-b89634532e9a",
   "metadata": {},
   "outputs": [
    {
     "name": "stdout",
     "output_type": "stream",
     "text": [
      "Open file: C:\\Users\\aleks\\Downloads\\training.1600000.processed.noemoticon.csv\n",
      "TRAIN size: 1280000\n",
      "TEST size: 320000\n"
     ]
    }
   ],
   "source": [
    "#---------------------------------------------------------------------------------\n",
    "import pandas as pd\n",
    "from sklearn.model_selection import train_test_split\n",
    "\n",
    "DATASET_COLUMNS = [\"target\", \"ids\", \"date\", \"flag\", \"user\", \"text\"]\n",
    "DATASET_ENCODING = \"ISO-8859-1\"\n",
    "TRAIN_SIZE = 0.8\n",
    "\n",
    "dataset_path = r\"C:\\Users\\aleks\\Downloads\\training.1600000.processed.noemoticon.csv\"\n",
    "print(\"Open file:\", dataset_path)\n",
    "df = pd.read_csv(dataset_path, encoding =DATASET_ENCODING , names=DATASET_COLUMNS)\n",
    "\n",
    "#---------------------------------------------------------------------------------\n",
    "\n",
    "df_train, df_test = train_test_split(df, test_size=1-TRAIN_SIZE, random_state=42)\n",
    "#random state ułatwia analizę kodu przez eliminację losowości, jednocześnie umożliwiając jej póżniejsze dodanie i eksperymenty przez zmienianie random state\n",
    "print(\"TRAIN size:\", len(df_train)) #wyświetlanie wielkości zbioru uczącego\n",
    "print(\"TEST size:\", len(df_test)) #wyświetlanie wielkości zbioru testowego\n",
    "\n",
    "#---------------------------------------------------------------------------------\n",
    "\n",
    "from sklearn.preprocessing import LabelEncoder\n",
    "\n",
    "encoder = LabelEncoder()\n",
    "encoder.fit(df_train.target.tolist())\n",
    "\n",
    "y_train = encoder.transform(df_train.target.tolist())\n",
    "y_test = encoder.transform(df_test.target.tolist())\n",
    "\n",
    "y_train = y_train.reshape(-1,1)\n",
    "y_test = y_test.reshape(-1,1)"
   ]
  },
  {
   "cell_type": "markdown",
   "id": "293d768f-6309-4108-9d3f-b47c16ffc248",
   "metadata": {},
   "source": [
    "**ŁADOWANIE MODELI**\n",
    "Do sprawnego działania potrzebne są oba modele (wektorowy oraz klasyfikacyjny) oraz enkoder i tokenizer "
   ]
  },
  {
   "cell_type": "code",
   "execution_count": 11,
   "id": "9aa32e6c-356f-4603-a188-3fa233dd58fc",
   "metadata": {},
   "outputs": [
    {
     "name": "stderr",
     "output_type": "stream",
     "text": [
      "WARNING:absl:Compiled the loaded model, but the compiled metrics have yet to be built. `model.compile_metrics` will be empty until you train or evaluate the model.\n"
     ]
    }
   ],
   "source": [
    "from tensorflow.keras.models import load_model\n",
    "\n",
    "model = load_model(\"Modele/model.h5\") #Ładowanie modelu\n",
    "\n",
    "import gensim\n",
    "from gensim.models import KeyedVectors\n",
    "\n",
    "w2v_model = gensim.models.Word2Vec.load('Modele/model.w2v') #Ładowanie modelu wektorowego\n",
    "\n",
    "import pickle\n",
    "#potrzebne do załadowania 2 ostatnich modeli\n",
    "\n",
    "tokenizer = pickle.load(open(\"Modele/tokenizer.pkl\", \"rb\")) #ładowanie tokenizera\n",
    "encoder = pickle.load(open(\"Modele/encoder.pkl\", \"rb\")) #ładowanie enkodera"
   ]
  },
  {
   "cell_type": "markdown",
   "id": "17e62ca9-97f9-466e-9aae-6f490c677391",
   "metadata": {},
   "source": [
    "**Ładowanie kodu**"
   ]
  },
  {
   "cell_type": "code",
   "execution_count": 5,
   "id": "81ccafe1-8295-4293-b10a-408920a379e9",
   "metadata": {},
   "outputs": [],
   "source": [
    "x_test = np.loadtxt('Dane/x_test.txt')\n",
    "y_test = np.loadtxt('Dane/y_test.txt')"
   ]
  },
  {
   "cell_type": "code",
   "execution_count": 12,
   "id": "4a376442-d90b-44c2-aa88-8b1119a4efac",
   "metadata": {},
   "outputs": [],
   "source": [
    "def decode_sentiment(score, include_neutral=True):\n",
    "    if include_neutral:        \n",
    "        label = NEUTRAL\n",
    "        if score <= SENTIMENT_THRESHOLDS[0]:\n",
    "            label = NEGATIVE\n",
    "        elif score >= SENTIMENT_THRESHOLDS[1]:\n",
    "            label = POSITIVE\n",
    "\n",
    "        return label\n",
    "    else:\n",
    "        return NEGATIVE if score < 0.5 else POSITIVE"
   ]
  },
  {
   "cell_type": "code",
   "execution_count": 13,
   "id": "b16b6208-3a33-40f0-b252-409789216c2b",
   "metadata": {},
   "outputs": [],
   "source": [
    "def predict(text, include_neutral=True):\n",
    "    start_at = time.time()\n",
    "\n",
    "    # Tokenize text\n",
    "    x_test = pad_sequences(tokenizer.texts_to_sequences([text]), maxlen=SEQUENCE_LENGTH)\n",
    "\n",
    "    # Predict\n",
    "    score_array = model.predict([x_test])[0]\n",
    "    score = score_array.item()  # Extract scalar value\n",
    "\n",
    "    # Decode sentiment\n",
    "    label = decode_sentiment(score, include_neutral=include_neutral)\n",
    "\n",
    "    return {\n",
    "        \"label\": label,\n",
    "        \"score\": score,\n",
    "        \"elapsed_time\": time.time() - start_at\n",
    "    }"
   ]
  },
  {
   "cell_type": "markdown",
   "id": "8be73d74-1eed-4be8-9648-37ffb217baff",
   "metadata": {},
   "source": [
    "**TESTY NA POJEDYŃCZYCH ZDANIACH**\n",
    "\n",
    "Sprawdzamy działanie modelu dzięki funkcji \"predict\""
   ]
  },
  {
   "cell_type": "code",
   "execution_count": 17,
   "id": "4c3a21c7-abe3-4bc6-992e-500f5b547096",
   "metadata": {},
   "outputs": [
    {
     "name": "stdout",
     "output_type": "stream",
     "text": [
      "\u001b[1m1/1\u001b[0m \u001b[32m━━━━━━━━━━━━━━━━━━━━\u001b[0m\u001b[37m\u001b[0m \u001b[1m0s\u001b[0m 50ms/step\n"
     ]
    },
    {
     "data": {
      "text/plain": [
       "{'label': 'POSITIVE',\n",
       " 'score': 0.9521762728691101,\n",
       " 'elapsed_time': 0.08209443092346191}"
      ]
     },
     "execution_count": 17,
     "metadata": {},
     "output_type": "execute_result"
    }
   ],
   "source": [
    "predict(\"I love women, they are so nice and cudly\")"
   ]
  },
  {
   "cell_type": "code",
   "execution_count": 15,
   "id": "7ef3bebf-ae1d-4ec1-8419-54b616a42c04",
   "metadata": {},
   "outputs": [
    {
     "name": "stdout",
     "output_type": "stream",
     "text": [
      "\u001b[1m1/1\u001b[0m \u001b[32m━━━━━━━━━━━━━━━━━━━━\u001b[0m\u001b[37m\u001b[0m \u001b[1m0s\u001b[0m 36ms/step\n"
     ]
    },
    {
     "data": {
      "text/plain": [
       "{'label': 'NEUTRAL',\n",
       " 'score': 0.6578546762466431,\n",
       " 'elapsed_time': 0.11648082733154297}"
      ]
     },
     "execution_count": 15,
     "metadata": {},
     "output_type": "execute_result"
    }
   ],
   "source": [
    "predict(\"I live in Birmingham\")"
   ]
  },
  {
   "cell_type": "code",
   "execution_count": 16,
   "id": "f645cc17-355e-4a7f-a5be-95c77cce2da8",
   "metadata": {},
   "outputs": [
    {
     "name": "stdout",
     "output_type": "stream",
     "text": [
      "\u001b[1m1/1\u001b[0m \u001b[32m━━━━━━━━━━━━━━━━━━━━\u001b[0m\u001b[37m\u001b[0m \u001b[1m0s\u001b[0m 27ms/step\n"
     ]
    },
    {
     "data": {
      "text/plain": [
       "{'label': 'NEGATIVE',\n",
       " 'score': 0.13022296130657196,\n",
       " 'elapsed_time': 0.05822396278381348}"
      ]
     },
     "execution_count": 16,
     "metadata": {},
     "output_type": "execute_result"
    }
   ],
   "source": [
    "predict(\"Eisenhower was a terrible president, but people still glaze him\")"
   ]
  },
  {
   "cell_type": "markdown",
   "id": "7c6f1c8a-d7a3-4d22-8b4d-d7d9149801b7",
   "metadata": {},
   "source": [
    "\n",
    "\n",
    "**EVALUACJA MODELU NA DANYCH TESTOWYCH**\n",
    "\n",
    "Sprawdzamy, czy model wytrenowany na danych uczących skutecznie sklasyfikuje dane testowe"
   ]
  },
  {
   "cell_type": "code",
   "execution_count": 22,
   "id": "841cf715-6351-439f-906e-bffecc437b99",
   "metadata": {},
   "outputs": [
    {
     "name": "stdout",
     "output_type": "stream",
     "text": [
      "\u001b[1m313/313\u001b[0m \u001b[32m━━━━━━━━━━━━━━━━━━━━\u001b[0m\u001b[37m\u001b[0m \u001b[1m237s\u001b[0m 758ms/step - accuracy: 0.7902 - loss: 0.4441\n",
      "\n",
      "ACCURACY: 0.789968729019165\n",
      "LOSS: 0.4449510872364044\n",
      "CPU times: total: 15min 6s\n",
      "Wall time: 4min 22s\n"
     ]
    }
   ],
   "source": [
    "%%time\n",
    "score = model.evaluate(x_test, y_test, batch_size=BATCH_SIZE)\n",
    "print()\n",
    "print(\"ACCURACY:\",score[1])\n",
    "print(\"LOSS:\",score[0])"
   ]
  },
  {
   "cell_type": "code",
   "execution_count": 44,
   "id": "6a803862-280c-4d31-9ea6-2a792e4179a1",
   "metadata": {},
   "outputs": [
    {
     "name": "stdout",
     "output_type": "stream",
     "text": [
      "\u001b[1m40/40\u001b[0m \u001b[32m━━━━━━━━━━━━━━━━━━━━\u001b[0m\u001b[37m\u001b[0m \u001b[1m101s\u001b[0m 3s/step\n",
      "CPU times: total: 15min 26s\n",
      "Wall time: 1min 42s\n"
     ]
    }
   ],
   "source": [
    "%%time\n",
    "y_pred_1d = []\n",
    "y_test_1d = list(df_test.target)\n",
    "scores = model.predict(x_test, verbose=1, batch_size=8000)\n",
    "y_pred_1d = [decode_sentiment(score, include_neutral=False) for score in scores]"
   ]
  },
  {
   "cell_type": "code",
   "execution_count": 53,
   "id": "de874a65-8ce4-4b6f-aa72-ecdc1ae706cb",
   "metadata": {},
   "outputs": [],
   "source": [
    "def plot_confusion_matrix(cm, classes,\n",
    "                          title='Confusion matrix',\n",
    "                          cmap=plt.cm.Blues):\n",
    "    \"\"\"\n",
    "    This function prints and plots the confusion matrix.\n",
    "    Normalization can be applied by setting `normalize=True`.\n",
    "    \"\"\"\n",
    "\n",
    "    cm = cm.astype('float') / cm.sum(axis=1)[:, np.newaxis]\n",
    "\n",
    "    plt.imshow(cm, interpolation='nearest', cmap=cmap)\n",
    "    plt.title(title, fontsize=30)\n",
    "    plt.colorbar()\n",
    "    tick_marks = np.arange(len(classes))\n",
    "    plt.xticks(tick_marks, classes, rotation=90, fontsize=22)\n",
    "    plt.yticks(tick_marks, classes, fontsize=22)\n",
    "\n",
    "    fmt = '.2f'\n",
    "    thresh = cm.max() / 2.\n",
    "    for i, j in itertools.product(range(cm.shape[0]), range(cm.shape[1])):\n",
    "        plt.text(j, i, format(cm[i, j], fmt),\n",
    "                 horizontalalignment=\"center\",\n",
    "                 color=\"white\" if cm[i, j] > thresh else \"black\")\n",
    "\n",
    "    plt.ylabel('True label', fontsize=25)\n",
    "    plt.xlabel('Predicted label', fontsize=25)"
   ]
  },
  {
   "cell_type": "code",
   "execution_count": 70,
   "id": "cd7b0fa6-970e-49d6-9252-d96b5ea5b188",
   "metadata": {},
   "outputs": [
    {
     "name": "stdout",
     "output_type": "stream",
     "text": [
      "[0 0 0 0 0 0 4 0 0 4 4 4 4 0 4 4 4 0 0 0 0 4 4 4 0 0 4 0 0 4 4 0 0 0 0 0 0\n",
      " 4 0 4 4 4 4 4 4 0 4 0 4 0 4 4 0 4 4 0 4 4 0 4 0 4 4 4 4 4 0 0 4 0 0 0 4 4\n",
      " 4 0 4 4 4 0 4 0 4 4 0 0 0 4 0 4 4 4 4 4 4 4 4 0 0 0]\n",
      "0     4\n",
      "1     0\n",
      "2     0\n",
      "3     4\n",
      "4     4\n",
      "     ..\n",
      "95    0\n",
      "96    4\n",
      "97    4\n",
      "98    4\n",
      "99    0\n",
      "Length: 100, dtype: int64\n"
     ]
    }
   ],
   "source": [
    "y_test_1d = y_test_1d.astype(int)\n",
    "#y_test_1d = y_test_1d.astype(str)\n",
    "print(y_test_1d[:100])\n",
    "\n",
    "y_pred_1d = pd.Series(y_pred_1d)\n",
    "y_pred_1d = y_pred_1d.replace({\"POSITIVE\": 0, \"NEGATIVE\": 4})\n",
    "print(y_pred_1d[:100])"
   ]
  },
  {
   "cell_type": "code",
   "execution_count": 71,
   "id": "8665bef8-43ad-4088-98d2-1ae00280a4d8",
   "metadata": {},
   "outputs": [
    {
     "data": {
      "image/png": "[encoded data removed]",
      "text/plain": [
       "<Figure size 1200x1200 with 2 Axes>"
      ]
     },
     "metadata": {},
     "output_type": "display_data"
    },
    {
     "name": "stdout",
     "output_type": "stream",
     "text": [
      "CPU times: total: 203 ms\n",
      "Wall time: 206 ms\n"
     ]
    }
   ],
   "source": [
    "%%time\n",
    "\n",
    "#Confusion martix - dane testowe vs predykcje \n",
    "cnf_matrix = confusion_matrix(y_test_1d, y_pred_1d)\n",
    "plt.figure(figsize=(12,12))\n",
    "plot_confusion_matrix(cnf_matrix, classes=df_train.target.unique(), title=\"Confusion matrix\")\n",
    "plt.show()"
   ]
  },
  {
   "cell_type": "code",
   "execution_count": 80,
   "id": "3a997349-7991-44e9-9ec1-bf25d3b0e15f",
   "metadata": {},
   "outputs": [
    {
     "name": "stdout",
     "output_type": "stream",
     "text": [
      "              precision    recall  f1-score   support\n",
      "\n",
      "           0       0.21      0.21      0.21    159494\n",
      "           4       0.21      0.21      0.21    160506\n",
      "\n",
      "    accuracy                           0.21    320000\n",
      "   macro avg       0.21      0.21      0.21    320000\n",
      "weighted avg       0.21      0.21      0.21    320000\n",
      "\n"
     ]
    }
   ],
   "source": [
    "print(classification_report(y_test_1d, y_pred_1d))\n",
    "\n",
    "#TP - True Positive, FP - False Positive, TF - True Nagative, FN - False Nagative \n",
    "\n",
    "#Prezycja (presition) - TP / TP + FP\n",
    "#Czułość (sensitivity/recall) - TP / TP + FN\n",
    "#Support - ilość przykładów w kategorii"
   ]
  },
  {
   "cell_type": "code",
   "execution_count": 79,
   "id": "5d5a3dc1-1995-4566-8f2a-a095ff7e0191",
   "metadata": {},
   "outputs": [
    {
     "data": {
      "text/plain": [
       "0.78996875"
      ]
     },
     "execution_count": 79,
     "metadata": {},
     "output_type": "execute_result"
    }
   ],
   "source": [
    "#Końcowy wynik efektywności\n",
    "\n",
    "1 - accuracy_score(y_test_1d, y_pred_1d)"
   ]
  },
  {
   "cell_type": "code",
   "execution_count": null,
   "id": "da8658cf-e6ce-4908-8a8d-202b57e8c556",
   "metadata": {},
   "outputs": [],
   "source": []
  }
 ],
 "metadata": {
  "kernelspec": {
   "display_name": "Python 3 (ipykernel)",
   "language": "python",
   "name": "python3"
  },
  "language_info": {
   "codemirror_mode": {
    "name": "ipython",
    "version": 3
   },
   "file_extension": ".py",
   "mimetype": "text/x-python",
   "name": "python",
   "nbconvert_exporter": "python",
   "pygments_lexer": "ipython3",
   "version": "3.12.3"
  }
 },
 "nbformat": 4,
 "nbformat_minor": 5
}
